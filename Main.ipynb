{
 "cells": [
  {
   "cell_type": "code",
   "execution_count": 3,
   "metadata": {},
   "outputs": [],
   "source": [
    "import cv2\n",
    "import numpy as np\n",
    "\n",
    "\n",
    "from keras.models import load_model\n",
    "from tensorflow.keras.applications.mobilenet import preprocess_input\n",
    "\n",
    "mdl = load_model('MaskNet1.hdf5')"
   ]
  },
  {
   "cell_type": "code",
   "execution_count": 2,
   "metadata": {},
   "outputs": [],
   "source": [
    "faceCascade=cv2.CascadeClassifier('C://Users//Shiva Prasad//Downloads//NIC//p9//Project//haarcascade_frontalface_default.xml')\n",
    "cap = cv2.VideoCapture(0)\n",
    "labels_dict={0:'MASK',1:'NO MASK'}\n",
    "color_dict={0:(0,255,0),1:(0,0,255)}\n",
    "\n",
    "while True:\n",
    "    _,frame = cap.read()\n",
    "    frame = cv2.flip(frame,1)\n",
    "    gray = cv2.cvtColor(frame,cv2.COLOR_BGR2GRAY)\n",
    "    faces = faceCascade.detectMultiScale(gray,1.4,5)\n",
    "    no_of_faces=len(faces)\n",
    "    if no_of_faces>=1:\n",
    "        for(x,y,w,h) in faces:\n",
    "            cv2.rectangle(frame,(x,y),(x+w,y+h),(225,0,0),2)\n",
    "            roi_color = frame[y:y+h,x:x+w]\n",
    "            img = roi_color\n",
    "            img = cv2.cvtColor(img, cv2.COLOR_BGR2RGB)\n",
    "            img = cv2.resize(img, (224,224))\n",
    "            img = preprocess_input(img)\n",
    "            img = np.expand_dims(img, axis = 0)\n",
    "            value =np.argmax(mdl.predict(img)) \n",
    "            mask_status=labels_dict[value] \n",
    "            arr = np.nanmax(mdl.predict(img))\n",
    "            label = \"{}: {:.2f}%\".format(mask_status,arr* 100)\n",
    "            cv2.putText(frame, label, (x, y - 10),cv2.FONT_HERSHEY_SIMPLEX, 0.95, color_dict[value], 3)\n",
    "            cv2.rectangle(frame, (x, y), (x+w, y+w), color_dict[value], 5)          \n",
    "    #else:\n",
    "        #print(\"face_not_found\")\n",
    "    cv2.imshow('frame',frame)\n",
    "      \n",
    "    k = cv2.waitKey(30)#esc\n",
    "    if k==27:\n",
    "        break\n",
    "        \n",
    "cv2.destroyAllWindows()\n",
    "cap.release()"
   ]
  },
  {
   "cell_type": "code",
   "execution_count": 3,
   "metadata": {},
   "outputs": [],
   "source": [
    "cv2.destroyAllWindows()\n",
    "cap.release()"
   ]
  },
  {
   "cell_type": "code",
   "execution_count": 21,
   "metadata": {},
   "outputs": [],
   "source": []
  },
  {
   "cell_type": "code",
   "execution_count": null,
   "metadata": {},
   "outputs": [],
   "source": []
  }
 ],
 "metadata": {
  "kernelspec": {
   "display_name": "Python 3",
   "language": "python",
   "name": "python3"
  },
  "language_info": {
   "codemirror_mode": {
    "name": "ipython",
    "version": 3
   },
   "file_extension": ".py",
   "mimetype": "text/x-python",
   "name": "python",
   "nbconvert_exporter": "python",
   "pygments_lexer": "ipython3",
   "version": "3.8.5"
  }
 },
 "nbformat": 4,
 "nbformat_minor": 4
}
